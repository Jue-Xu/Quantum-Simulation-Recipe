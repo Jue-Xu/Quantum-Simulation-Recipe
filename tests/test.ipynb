{
 "cells": [
  {
   "cell_type": "markdown",
   "id": "e385a43f",
   "metadata": {},
   "source": [
    "# Test"
   ]
  },
  {
   "cell_type": "code",
   "execution_count": 1,
   "id": "6dd25106",
   "metadata": {},
   "outputs": [
    {
     "name": "stdout",
     "output_type": "stream",
     "text": [
      "# packages in environment at /opt/homebrew/Caskroom/miniforge/base:\n",
      "#\n",
      "# Name                    Version                   Build  Channel\n",
      "quantum-simulation-recipe 0.0.9                    pypi_0    pypi\n"
     ]
    }
   ],
   "source": [
    "!conda list quantum"
   ]
  },
  {
   "cell_type": "code",
   "execution_count": 8,
   "id": "8c03d3e4",
   "metadata": {},
   "outputs": [
    {
     "data": {
      "text/plain": [
       "SparsePauliOp(['IIXX', 'IXXI', 'XXII', 'IIYY', 'IYYI', 'YYII', 'IIZZ', 'IZZI', 'ZZII', 'IIIX', 'IIXI', 'IXII', 'XIII'],\n",
       "              coeffs=[1. +0.j, 1. +0.j, 1. +0.j, 1. +0.j, 1. +0.j, 1. +0.j, 1. +0.j, 1. +0.j,\n",
       " 1. +0.j, 0.2+0.j, 0.2+0.j, 0.2+0.j, 0.2+0.j])"
      ]
     },
     "execution_count": 8,
     "metadata": {},
     "output_type": "execute_result"
    }
   ],
   "source": [
    "import importlib  \n",
    "# qsr = importlib.import_module(\"quantum_simulation_recipe\")\n",
    "# qsr = importlib.import_module(\"qiskit-algorithms\")\n",
    "# qsr = importlib.import_module(\"quantum-simulation-recipe\")\n",
    "\n",
    "# from jupyter_book import *\n",
    "# from quantum_simulation_recipe import *\n",
    "import quantum_simulation_recipe as qsr\n",
    "# from qiskit_algorithms import *\n",
    "# from qutip import *\n",
    "# from quantum_simulation_recipe import Nearest_Neighbour_1d\n",
    "from quantum_simulation_recipe import *\n",
    "\n",
    "# qsr.Nearest_Neighbour_1d(4)\n",
    "spin_ham.Nearest_Neighbour_1d(4).ham"
   ]
  }
 ],
 "metadata": {
  "kernelspec": {
   "display_name": "Python 3.8.8 ('base')",
   "language": "python",
   "name": "python3"
  },
  "language_info": {
   "codemirror_mode": {
    "name": "ipython",
    "version": 3
   },
   "file_extension": ".py",
   "mimetype": "text/x-python",
   "name": "python",
   "nbconvert_exporter": "python",
   "pygments_lexer": "ipython3",
   "version": "3.10.14"
  },
  "vscode": {
   "interpreter": {
    "hash": "4e8ef2f9fcac0817bca9a7ca376f64f20b4df5ea3bf7af756a50bda7d3557ea6"
   }
  }
 },
 "nbformat": 4,
 "nbformat_minor": 5
}
