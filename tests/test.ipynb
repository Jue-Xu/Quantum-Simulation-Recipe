{
 "cells": [
  {
   "cell_type": "markdown",
   "id": "e385a43f",
   "metadata": {},
   "source": [
    "# Test"
   ]
  },
  {
   "cell_type": "code",
   "execution_count": 5,
   "id": "6dd25106",
   "metadata": {},
   "outputs": [
    {
     "name": "stdout",
     "output_type": "stream",
     "text": [
      "# packages in environment at /opt/homebrew/Caskroom/miniforge/base:\n",
      "#\n",
      "# Name                    Version                   Build  Channel\n",
      "quantum-simulation-recipe 0.0.6                    pypi_0    pypi\n"
     ]
    }
   ],
   "source": [
    "!conda list quantum"
   ]
  },
  {
   "cell_type": "code",
   "execution_count": 12,
   "id": "8c03d3e4",
   "metadata": {},
   "outputs": [
    {
     "ename": "ModuleNotFoundError",
     "evalue": "No module named 'quantum_simulation_recipe'",
     "output_type": "error",
     "traceback": [
      "\u001b[0;31m---------------------------------------------------------------------------\u001b[0m",
      "\u001b[0;31mModuleNotFoundError\u001b[0m                       Traceback (most recent call last)",
      "Cell \u001b[0;32mIn[12], line 8\u001b[0m\n\u001b[1;32m      1\u001b[0m \u001b[38;5;28;01mimport\u001b[39;00m \u001b[38;5;21;01mimportlib\u001b[39;00m  \n\u001b[1;32m      2\u001b[0m \u001b[38;5;66;03m# qsr = importlib.import_module(\"quantum_simulation_recipe\")\u001b[39;00m\n\u001b[1;32m      3\u001b[0m \u001b[38;5;66;03m# qsr = importlib.import_module(\"qiskit-algorithms\")\u001b[39;00m\n\u001b[1;32m      4\u001b[0m \u001b[38;5;66;03m# qsr = importlib.import_module(\"quantum-simulation-recipe\")\u001b[39;00m\n\u001b[1;32m      5\u001b[0m \n\u001b[1;32m      6\u001b[0m \u001b[38;5;66;03m# from jupyter_book import *\u001b[39;00m\n\u001b[1;32m      7\u001b[0m \u001b[38;5;66;03m# from quantum_simulation_recipe import *\u001b[39;00m\n\u001b[0;32m----> 8\u001b[0m \u001b[38;5;28;01mimport\u001b[39;00m \u001b[38;5;21;01mquantum_simulation_recipe\u001b[39;00m\n\u001b[1;32m      9\u001b[0m \u001b[38;5;66;03m# from qiskit_algorithms import *\u001b[39;00m\n\u001b[1;32m     10\u001b[0m \u001b[38;5;66;03m# from qutip import *\u001b[39;00m\n",
      "\u001b[0;31mModuleNotFoundError\u001b[0m: No module named 'quantum_simulation_recipe'"
     ]
    }
   ],
   "source": [
    "import importlib  \n",
    "# qsr = importlib.import_module(\"quantum_simulation_recipe\")\n",
    "# qsr = importlib.import_module(\"qiskit-algorithms\")\n",
    "# qsr = importlib.import_module(\"quantum-simulation-recipe\")\n",
    "\n",
    "# from jupyter_book import *\n",
    "# from quantum_simulation_recipe import *\n",
    "import quantum_simulation_recipe\n",
    "# from qiskit_algorithms import *\n",
    "# from qutip import *"
   ]
  }
 ],
 "metadata": {
  "kernelspec": {
   "display_name": "Python 3.8.8 ('base')",
   "language": "python",
   "name": "python3"
  },
  "language_info": {
   "codemirror_mode": {
    "name": "ipython",
    "version": 3
   },
   "file_extension": ".py",
   "mimetype": "text/x-python",
   "name": "python",
   "nbconvert_exporter": "python",
   "pygments_lexer": "ipython3",
   "version": "3.10.14"
  },
  "vscode": {
   "interpreter": {
    "hash": "4e8ef2f9fcac0817bca9a7ca376f64f20b4df5ea3bf7af756a50bda7d3557ea6"
   }
  }
 },
 "nbformat": 4,
 "nbformat_minor": 5
}
