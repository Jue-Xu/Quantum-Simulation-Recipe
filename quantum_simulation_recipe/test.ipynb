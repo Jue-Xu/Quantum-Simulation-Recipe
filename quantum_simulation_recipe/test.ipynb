{
 "cells": [
  {
   "cell_type": "markdown",
   "id": "e385a43f",
   "metadata": {},
   "source": [
    "# Test"
   ]
  },
  {
   "cell_type": "markdown",
   "id": "b318c92e",
   "metadata": {},
   "source": [
    "## Hamiltonians"
   ]
  },
  {
   "cell_type": "markdown",
   "id": "2209bd76",
   "metadata": {},
   "source": [
    "### Spin lattice model"
   ]
  },
  {
   "cell_type": "code",
   "execution_count": 1,
   "id": "8c03d3e4",
   "metadata": {},
   "outputs": [],
   "source": [
    "from spin import *\n",
    "from fermion import *"
   ]
  },
  {
   "cell_type": "code",
   "execution_count": 31,
   "id": "6ae552ff",
   "metadata": {},
   "outputs": [
    {
     "data": {
      "text/plain": [
       "[SparsePauliOp(['IIXX', 'XXII', 'IIYY', 'YYII', 'IIZZ', 'ZZII', 'IIIZ', 'IZII'],\n",
       "               coeffs=[1. +0.j, 1. +0.j, 1. +0.j, 1. +0.j, 1. +0.j, 1. +0.j, 0.2+0.j, 0.2+0.j]),\n",
       " SparsePauliOp(['IXXI', 'XIIX', 'IYYI', 'YIIY', 'IZZI', 'ZIIZ', 'IIZI', 'ZIII'],\n",
       "               coeffs=[1. +0.j, 1. +0.j, 1. +0.j, 1. +0.j, 1. +0.j, 1. +0.j, 0.2+0.j, 0.2+0.j])]"
      ]
     },
     "execution_count": 31,
     "metadata": {},
     "output_type": "execute_result"
    }
   ],
   "source": [
    "## Test 1D Nearest Neighbour (Heisenberg) Hamiltonian with PBC\n",
    "n = 4\n",
    "nnh = Nearest_Neighbour_1d(4, Jx=1, Jy=1, Jz=1, hx=0, hy=0, hz=0.2, pbc=True)\n",
    "nnh.ham\n",
    "nnh.ham_par\n",
    "# nnh.ham_xyz"
   ]
  },
  {
   "cell_type": "code",
   "execution_count": 103,
   "id": "37fd7d0d",
   "metadata": {},
   "outputs": [
    {
     "data": {
      "text/plain": [
       "[SparsePauliOp(['IIIX', 'IIXI', 'IXII', 'XIII'],\n",
       "               coeffs=[0.20865101+0.j, 0.18081363+0.j, 0.22731382+0.j, 0.19945575+0.j]),\n",
       " SparsePauliOp(['IIZZ', 'IZZI', 'ZZII', 'ZIIZ'],\n",
       "               coeffs=[1.+0.j, 1.+0.j, 1.+0.j, 1.+0.j])]"
      ]
     },
     "execution_count": 103,
     "metadata": {},
     "output_type": "execute_result"
    }
   ],
   "source": [
    "## TF Ising with disorder field\n",
    "n = 4\n",
    "disorder = np.random.uniform(-0.2, 0.2, n)\n",
    "tfi = Nearest_Neighbour_1d(4, Jx=0, Jy=0, Jz=1, hx=0.2, hy=0, hz=0, pbc=True, rand_field=disorder)\n",
    "tfi.ham\n",
    "tfi.ham_xyz"
   ]
  },
  {
   "cell_type": "code",
   "execution_count": 3,
   "id": "697472fc",
   "metadata": {},
   "outputs": [
    {
     "data": {
      "text/plain": [
       "[SparsePauliOp(['IXX', 'XIX', 'XXI'],\n",
       "               coeffs=[1.    +0.j, 0.0625+0.j, 1.    +0.j]),\n",
       " SparsePauliOp(['IZZ', 'ZIZ', 'ZZI', 'IIZ', 'IZI', 'ZII'],\n",
       "               coeffs=[1.    +0.j, 0.0625+0.j, 1.    +0.j, 0.2   +0.j, 0.2   +0.j, 0.2   +0.j])]"
      ]
     },
     "execution_count": 3,
     "metadata": {},
     "output_type": "execute_result"
    }
   ],
   "source": [
    "## Test 1D Power-law decaying Hamiltonian\n",
    "plh = Power_Law(3, alpha=4, Jx=1, Jy=0, Jz=1, hx=0, hy=0, hz=0.2)\n",
    "plh.ham_xyz"
   ]
  },
  {
   "cell_type": "markdown",
   "id": "e1692c9e",
   "metadata": {},
   "source": [
    "## Trotter (Product formula)"
   ]
  },
  {
   "cell_type": "code",
   "execution_count": null,
   "id": "bcf5fb1c",
   "metadata": {},
   "outputs": [
    {
     "data": {
      "text/plain": [
       "<16x16 sparse matrix of type '<class 'numpy.complex128'>'\n",
       "\twith 70 stored elements in Compressed Sparse Row format>"
      ]
     },
     "metadata": {},
     "output_type": "display_data"
    }
   ],
   "source": [
    "from trotter import pf_r\n",
    "\n",
    "pf_r(nnh.ham_par, 2, 100, order=2)\n",
    "pf_r(nnh.ham_par, 2, 100, order=2, use_jax=True)\n",
    "pf_r([term.to_matrix(True) for term in nnh.ham_par], 2, 100, order=2)"
   ]
  },
  {
   "cell_type": "markdown",
   "id": "d7fe9c22",
   "metadata": {},
   "source": [
    "### Molecules"
   ]
  },
  {
   "cell_type": "code",
   "execution_count": 16,
   "id": "5534a0bd",
   "metadata": {},
   "outputs": [
    {
     "name": "stdout",
     "output_type": "stream",
     "text": [
      "# pstr: 15, ['IIII', 'ZIII', 'IZII', 'IIZI', 'IIIZ', 'ZZII', 'YXXY', 'YYXX', 'XXYY', 'XYYX', 'ZIZI', 'ZIIZ', 'IZZI', 'IZIZ', 'IIZZ']\n",
      "# groups: 2\n",
      "[[{'IIII': (-0.3276081896748102+0j)}, {'ZIII': (0.13716572937099497+0j)}, {'IZII': (0.13716572937099497+0j)}, {'IIZI': (-0.13036292057109025+0j)}, {'IIIZ': (-0.13036292057109025+0j)}, {'ZZII': (0.15660062488237947+0j)}], [{'YXXY': (0.049197645871367546+0j)}, {'YYXX': (-0.049197645871367546+0j)}, {'XXYY': (-0.049197645871367546+0j)}, {'XYYX': (0.049197645871367546+0j)}, {'ZIZI': (0.10622904490856078+0j)}, {'ZIIZ': (0.15542669077992832+0j)}, {'IZZI': (0.15542669077992832+0j)}, {'IZIZ': (0.10622904490856078+0j)}, {'IIZZ': (0.16326768673564335+0j)}]]\n"
     ]
    }
   ],
   "source": [
    "h2 = Hydrogen_Chain(2, 1.0)"
   ]
  },
  {
   "cell_type": "code",
   "execution_count": 20,
   "id": "011d3ad9",
   "metadata": {},
   "outputs": [
    {
     "data": {
      "text/plain": [
       "0.52917721092 [] +\n",
       "-1.110844179883727 [0^ 0] +\n",
       "0.31320124976475894 [0^ 0^ 0 0] +\n",
       "0.09839529174273509 [0^ 0^ 2 2] +\n",
       "0.31320124976475894 [0^ 1^ 1 0] +\n",
       "0.09839529174273509 [0^ 1^ 3 2] +\n",
       "0.09839529174273509 [0^ 2^ 0 2] +\n",
       "0.31085338155985653 [0^ 2^ 2 0] +\n",
       "0.09839529174273509 [0^ 3^ 1 2] +\n",
       "0.31085338155985653 [0^ 3^ 3 0] +\n",
       "0.31320124976475894 [1^ 0^ 0 1] +\n",
       "0.09839529174273509 [1^ 0^ 2 3] +\n",
       "-1.110844179883727 [1^ 1] +\n",
       "0.31320124976475894 [1^ 1^ 1 1] +\n",
       "0.09839529174273509 [1^ 1^ 3 3] +\n",
       "0.09839529174273509 [1^ 2^ 0 3] +\n",
       "0.31085338155985653 [1^ 2^ 2 1] +\n",
       "0.09839529174273509 [1^ 3^ 1 3] +\n",
       "0.31085338155985653 [1^ 3^ 3 1] +\n",
       "0.3108533815598567 [2^ 0^ 0 2] +\n",
       "0.09839529174273509 [2^ 0^ 2 0] +\n",
       "0.3108533815598567 [2^ 1^ 1 2] +\n",
       "0.09839529174273509 [2^ 1^ 3 0] +\n",
       "-0.5891210037060843 [2^ 2] +\n",
       "0.09839529174273509 [2^ 2^ 0 0] +\n",
       "0.3265353734712867 [2^ 2^ 2 2] +\n",
       "0.09839529174273509 [2^ 3^ 1 0] +\n",
       "0.3265353734712867 [2^ 3^ 3 2] +\n",
       "0.3108533815598567 [3^ 0^ 0 3] +\n",
       "0.09839529174273509 [3^ 0^ 2 1] +\n",
       "0.3108533815598567 [3^ 1^ 1 3] +\n",
       "0.09839529174273509 [3^ 1^ 3 1] +\n",
       "0.09839529174273509 [3^ 2^ 0 1] +\n",
       "0.3265353734712867 [3^ 2^ 2 3] +\n",
       "-0.5891210037060843 [3^ 3] +\n",
       "0.09839529174273509 [3^ 3^ 1 1] +\n",
       "0.3265353734712867 [3^ 3^ 3 3]"
      ]
     },
     "execution_count": 20,
     "metadata": {},
     "output_type": "execute_result"
    }
   ],
   "source": [
    "h2.fermion_hamiltonian"
   ]
  },
  {
   "cell_type": "code",
   "execution_count": 19,
   "id": "90678d99",
   "metadata": {},
   "outputs": [
    {
     "data": {
      "text/plain": [
       "() 0.52917721092\n",
       "((0, 1), (0, 0)) -1.110844179883727\n",
       "((1, 1), (1, 0)) -1.110844179883727\n",
       "((2, 1), (2, 0)) -0.5891210037060843\n",
       "((3, 1), (3, 0)) -0.5891210037060843\n",
       "((0, 1), (0, 1), (0, 0), (0, 0)) 0.31320124976475894\n",
       "((0, 1), (0, 1), (2, 0), (2, 0)) 0.09839529174273509\n",
       "((0, 1), (1, 1), (1, 0), (0, 0)) 0.31320124976475894\n",
       "((0, 1), (1, 1), (3, 0), (2, 0)) 0.09839529174273509\n",
       "((0, 1), (2, 1), (0, 0), (2, 0)) 0.09839529174273509\n",
       "((0, 1), (2, 1), (2, 0), (0, 0)) 0.31085338155985653\n",
       "((0, 1), (3, 1), (1, 0), (2, 0)) 0.09839529174273509\n",
       "((0, 1), (3, 1), (3, 0), (0, 0)) 0.31085338155985653\n",
       "((1, 1), (0, 1), (0, 0), (1, 0)) 0.31320124976475894\n",
       "((1, 1), (0, 1), (2, 0), (3, 0)) 0.09839529174273509\n",
       "((1, 1), (1, 1), (1, 0), (1, 0)) 0.31320124976475894\n",
       "((1, 1), (1, 1), (3, 0), (3, 0)) 0.09839529174273509\n",
       "((1, 1), (2, 1), (0, 0), (3, 0)) 0.09839529174273509\n",
       "((1, 1), (2, 1), (2, 0), (1, 0)) 0.31085338155985653\n",
       "((1, 1), (3, 1), (1, 0), (3, 0)) 0.09839529174273509\n",
       "((1, 1), (3, 1), (3, 0), (1, 0)) 0.31085338155985653\n",
       "((2, 1), (0, 1), (0, 0), (2, 0)) 0.3108533815598567\n",
       "((2, 1), (0, 1), (2, 0), (0, 0)) 0.09839529174273509\n",
       "((2, 1), (1, 1), (1, 0), (2, 0)) 0.3108533815598567\n",
       "((2, 1), (1, 1), (3, 0), (0, 0)) 0.09839529174273509\n",
       "((2, 1), (2, 1), (0, 0), (0, 0)) 0.09839529174273509\n",
       "((2, 1), (2, 1), (2, 0), (2, 0)) 0.3265353734712867\n",
       "((2, 1), (3, 1), (1, 0), (0, 0)) 0.09839529174273509\n",
       "((2, 1), (3, 1), (3, 0), (2, 0)) 0.3265353734712867\n",
       "((3, 1), (0, 1), (0, 0), (3, 0)) 0.3108533815598567\n",
       "((3, 1), (0, 1), (2, 0), (1, 0)) 0.09839529174273509\n",
       "((3, 1), (1, 1), (1, 0), (3, 0)) 0.3108533815598567\n",
       "((3, 1), (1, 1), (3, 0), (1, 0)) 0.09839529174273509\n",
       "((3, 1), (2, 1), (0, 0), (1, 0)) 0.09839529174273509\n",
       "((3, 1), (2, 1), (2, 0), (3, 0)) 0.3265353734712867\n",
       "((3, 1), (3, 1), (1, 0), (1, 0)) 0.09839529174273509\n",
       "((3, 1), (3, 1), (3, 0), (3, 0)) 0.3265353734712867"
      ]
     },
     "execution_count": 19,
     "metadata": {},
     "output_type": "execute_result"
    }
   ],
   "source": [
    "h2.molecular_hamiltonian"
   ]
  },
  {
   "cell_type": "code",
   "execution_count": 18,
   "id": "87d9256d",
   "metadata": {},
   "outputs": [
    {
     "data": {
      "text/plain": [
       "(-0.3276081896748102+0j) [] +\n",
       "(-0.049197645871367546+0j) [X0 X1 Y2 Y3] +\n",
       "(0.049197645871367546+0j) [X0 Y1 Y2 X3] +\n",
       "(0.049197645871367546+0j) [Y0 X1 X2 Y3] +\n",
       "(-0.049197645871367546+0j) [Y0 Y1 X2 X3] +\n",
       "(0.13716572937099497+0j) [Z0] +\n",
       "(0.15660062488237947+0j) [Z0 Z1] +\n",
       "(0.10622904490856078+0j) [Z0 Z2] +\n",
       "(0.15542669077992832+0j) [Z0 Z3] +\n",
       "(0.13716572937099497+0j) [Z1] +\n",
       "(0.15542669077992832+0j) [Z1 Z2] +\n",
       "(0.10622904490856078+0j) [Z1 Z3] +\n",
       "(-0.13036292057109025+0j) [Z2] +\n",
       "(0.16326768673564335+0j) [Z2 Z3] +\n",
       "(-0.13036292057109025+0j) [Z3]"
      ]
     },
     "execution_count": 18,
     "metadata": {},
     "output_type": "execute_result"
    }
   ],
   "source": [
    "h2.jw"
   ]
  },
  {
   "cell_type": "markdown",
   "id": "f981124d",
   "metadata": {},
   "source": [
    "## Misc"
   ]
  },
  {
   "cell_type": "code",
   "execution_count": null,
   "id": "5ceb9923",
   "metadata": {},
   "outputs": [],
   "source": []
  }
 ],
 "metadata": {
  "kernelspec": {
   "display_name": "Python 3.8.8 ('base')",
   "language": "python",
   "name": "python3"
  },
  "language_info": {
   "codemirror_mode": {
    "name": "ipython",
    "version": 3
   },
   "file_extension": ".py",
   "mimetype": "text/x-python",
   "name": "python",
   "nbconvert_exporter": "python",
   "pygments_lexer": "ipython3",
   "version": "3.10.14"
  },
  "vscode": {
   "interpreter": {
    "hash": "4e8ef2f9fcac0817bca9a7ca376f64f20b4df5ea3bf7af756a50bda7d3557ea6"
   }
  }
 },
 "nbformat": 4,
 "nbformat_minor": 5
}
