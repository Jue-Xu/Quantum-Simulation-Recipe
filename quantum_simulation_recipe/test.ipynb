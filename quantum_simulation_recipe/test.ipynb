{
 "cells": [
  {
   "cell_type": "markdown",
   "id": "e385a43f",
   "metadata": {},
   "source": [
    "# Test"
   ]
  },
  {
   "cell_type": "markdown",
   "id": "b318c92e",
   "metadata": {},
   "source": [
    "## Hamiltonians"
   ]
  },
  {
   "cell_type": "markdown",
   "id": "2209bd76",
   "metadata": {},
   "source": [
    "### Spin lattice model"
   ]
  },
  {
   "cell_type": "code",
   "execution_count": 12,
   "id": "8c03d3e4",
   "metadata": {},
   "outputs": [],
   "source": [
    "from spin import *\n",
    "from fermion import *\n",
    "from bounds import norm, tight_bound, commutator"
   ]
  },
  {
   "cell_type": "code",
   "execution_count": 3,
   "id": "6ae552ff",
   "metadata": {},
   "outputs": [
    {
     "data": {
      "text/plain": [
       "[SparsePauliOp(['IIXX', 'XXII', 'IIIZ', 'IZII'],\n",
       "               coeffs=[1. +0.j, 1. +0.j, 0.2+0.j, 0.2+0.j]),\n",
       " SparsePauliOp(['IXXI', 'XIIX', 'IIZI', 'ZIII'],\n",
       "               coeffs=[1. +0.j, 1. +0.j, 0.2+0.j, 0.2+0.j])]"
      ]
     },
     "execution_count": 3,
     "metadata": {},
     "output_type": "execute_result"
    }
   ],
   "source": [
    "## Test 1D Nearest Neighbour (Heisenberg) Hamiltonian with PBC\n",
    "n = 4\n",
    "nnh = Nearest_Neighbour_1d(4, Jx=1, hz=0.2, pbc=True)\n",
    "nnh.ham\n",
    "nnh.ham_par\n",
    "# nnh.ham_xyz"
   ]
  },
  {
   "cell_type": "code",
   "execution_count": 5,
   "id": "37fd7d0d",
   "metadata": {},
   "outputs": [
    {
     "data": {
      "text/plain": [
       "[SparsePauliOp(['IIIX', 'IIXI', 'IXII', 'XIII'],\n",
       "               coeffs=[0.20706394+0.j, 0.18683248+0.j, 0.16596379+0.j, 0.21782065+0.j]),\n",
       " SparsePauliOp(['IIZZ', 'IZZI', 'ZZII', 'ZIIZ'],\n",
       "               coeffs=[1.+0.j, 1.+0.j, 1.+0.j, 1.+0.j])]"
      ]
     },
     "execution_count": 5,
     "metadata": {},
     "output_type": "execute_result"
    }
   ],
   "source": [
    "## TF Ising with disorder field\n",
    "n = 4\n",
    "disorder = np.random.uniform(-0.2, 0.2, n)\n",
    "tfi = Nearest_Neighbour_1d(4, Jz=1, hx=0.2, pbc=True, rand_field=disorder)\n",
    "tfi.ham\n",
    "tfi.ham_xyz"
   ]
  },
  {
   "cell_type": "code",
   "execution_count": 7,
   "id": "697472fc",
   "metadata": {},
   "outputs": [
    {
     "data": {
      "text/plain": [
       "[SparsePauliOp(['IXX', 'XIX', 'XXI'],\n",
       "               coeffs=[1.    +0.j, 0.0625+0.j, 1.    +0.j]),\n",
       " SparsePauliOp(['IZZ', 'ZIZ', 'ZZI', 'IIZ', 'IZI', 'ZII'],\n",
       "               coeffs=[1.    +0.j, 0.0625+0.j, 1.    +0.j, 0.2   +0.j, 0.2   +0.j, 0.2   +0.j])]"
      ]
     },
     "execution_count": 7,
     "metadata": {},
     "output_type": "execute_result"
    }
   ],
   "source": [
    "## Test 1D Power-law decaying Hamiltonian\n",
    "plh = Power_Law(3, 4, Jx=1, Jz=1, hz=0.2)\n",
    "plh.ham_xyz"
   ]
  },
  {
   "cell_type": "markdown",
   "id": "d7fe9c22",
   "metadata": {},
   "source": [
    "### Molecules"
   ]
  },
  {
   "cell_type": "code",
   "execution_count": 16,
   "id": "5534a0bd",
   "metadata": {},
   "outputs": [
    {
     "name": "stdout",
     "output_type": "stream",
     "text": [
      "# pstr: 15, ['IIII', 'ZIII', 'IZII', 'IIZI', 'IIIZ', 'ZZII', 'YXXY', 'YYXX', 'XXYY', 'XYYX', 'ZIZI', 'ZIIZ', 'IZZI', 'IZIZ', 'IIZZ']\n",
      "# groups: 2\n",
      "[[{'IIII': (-0.3276081896748102+0j)}, {'ZIII': (0.13716572937099497+0j)}, {'IZII': (0.13716572937099497+0j)}, {'IIZI': (-0.13036292057109025+0j)}, {'IIIZ': (-0.13036292057109025+0j)}, {'ZZII': (0.15660062488237947+0j)}], [{'YXXY': (0.049197645871367546+0j)}, {'YYXX': (-0.049197645871367546+0j)}, {'XXYY': (-0.049197645871367546+0j)}, {'XYYX': (0.049197645871367546+0j)}, {'ZIZI': (0.10622904490856078+0j)}, {'ZIIZ': (0.15542669077992832+0j)}, {'IZZI': (0.15542669077992832+0j)}, {'IZIZ': (0.10622904490856078+0j)}, {'IIZZ': (0.16326768673564335+0j)}]]\n"
     ]
    }
   ],
   "source": [
    "h2 = Hydrogen_Chain(2, 1.0)"
   ]
  },
  {
   "cell_type": "code",
   "execution_count": 20,
   "id": "011d3ad9",
   "metadata": {},
   "outputs": [
    {
     "data": {
      "text/plain": [
       "0.52917721092 [] +\n",
       "-1.110844179883727 [0^ 0] +\n",
       "0.31320124976475894 [0^ 0^ 0 0] +\n",
       "0.09839529174273509 [0^ 0^ 2 2] +\n",
       "0.31320124976475894 [0^ 1^ 1 0] +\n",
       "0.09839529174273509 [0^ 1^ 3 2] +\n",
       "0.09839529174273509 [0^ 2^ 0 2] +\n",
       "0.31085338155985653 [0^ 2^ 2 0] +\n",
       "0.09839529174273509 [0^ 3^ 1 2] +\n",
       "0.31085338155985653 [0^ 3^ 3 0] +\n",
       "0.31320124976475894 [1^ 0^ 0 1] +\n",
       "0.09839529174273509 [1^ 0^ 2 3] +\n",
       "-1.110844179883727 [1^ 1] +\n",
       "0.31320124976475894 [1^ 1^ 1 1] +\n",
       "0.09839529174273509 [1^ 1^ 3 3] +\n",
       "0.09839529174273509 [1^ 2^ 0 3] +\n",
       "0.31085338155985653 [1^ 2^ 2 1] +\n",
       "0.09839529174273509 [1^ 3^ 1 3] +\n",
       "0.31085338155985653 [1^ 3^ 3 1] +\n",
       "0.3108533815598567 [2^ 0^ 0 2] +\n",
       "0.09839529174273509 [2^ 0^ 2 0] +\n",
       "0.3108533815598567 [2^ 1^ 1 2] +\n",
       "0.09839529174273509 [2^ 1^ 3 0] +\n",
       "-0.5891210037060843 [2^ 2] +\n",
       "0.09839529174273509 [2^ 2^ 0 0] +\n",
       "0.3265353734712867 [2^ 2^ 2 2] +\n",
       "0.09839529174273509 [2^ 3^ 1 0] +\n",
       "0.3265353734712867 [2^ 3^ 3 2] +\n",
       "0.3108533815598567 [3^ 0^ 0 3] +\n",
       "0.09839529174273509 [3^ 0^ 2 1] +\n",
       "0.3108533815598567 [3^ 1^ 1 3] +\n",
       "0.09839529174273509 [3^ 1^ 3 1] +\n",
       "0.09839529174273509 [3^ 2^ 0 1] +\n",
       "0.3265353734712867 [3^ 2^ 2 3] +\n",
       "-0.5891210037060843 [3^ 3] +\n",
       "0.09839529174273509 [3^ 3^ 1 1] +\n",
       "0.3265353734712867 [3^ 3^ 3 3]"
      ]
     },
     "execution_count": 20,
     "metadata": {},
     "output_type": "execute_result"
    }
   ],
   "source": [
    "h2.fermion_hamiltonian"
   ]
  },
  {
   "cell_type": "code",
   "execution_count": 19,
   "id": "90678d99",
   "metadata": {},
   "outputs": [
    {
     "data": {
      "text/plain": [
       "() 0.52917721092\n",
       "((0, 1), (0, 0)) -1.110844179883727\n",
       "((1, 1), (1, 0)) -1.110844179883727\n",
       "((2, 1), (2, 0)) -0.5891210037060843\n",
       "((3, 1), (3, 0)) -0.5891210037060843\n",
       "((0, 1), (0, 1), (0, 0), (0, 0)) 0.31320124976475894\n",
       "((0, 1), (0, 1), (2, 0), (2, 0)) 0.09839529174273509\n",
       "((0, 1), (1, 1), (1, 0), (0, 0)) 0.31320124976475894\n",
       "((0, 1), (1, 1), (3, 0), (2, 0)) 0.09839529174273509\n",
       "((0, 1), (2, 1), (0, 0), (2, 0)) 0.09839529174273509\n",
       "((0, 1), (2, 1), (2, 0), (0, 0)) 0.31085338155985653\n",
       "((0, 1), (3, 1), (1, 0), (2, 0)) 0.09839529174273509\n",
       "((0, 1), (3, 1), (3, 0), (0, 0)) 0.31085338155985653\n",
       "((1, 1), (0, 1), (0, 0), (1, 0)) 0.31320124976475894\n",
       "((1, 1), (0, 1), (2, 0), (3, 0)) 0.09839529174273509\n",
       "((1, 1), (1, 1), (1, 0), (1, 0)) 0.31320124976475894\n",
       "((1, 1), (1, 1), (3, 0), (3, 0)) 0.09839529174273509\n",
       "((1, 1), (2, 1), (0, 0), (3, 0)) 0.09839529174273509\n",
       "((1, 1), (2, 1), (2, 0), (1, 0)) 0.31085338155985653\n",
       "((1, 1), (3, 1), (1, 0), (3, 0)) 0.09839529174273509\n",
       "((1, 1), (3, 1), (3, 0), (1, 0)) 0.31085338155985653\n",
       "((2, 1), (0, 1), (0, 0), (2, 0)) 0.3108533815598567\n",
       "((2, 1), (0, 1), (2, 0), (0, 0)) 0.09839529174273509\n",
       "((2, 1), (1, 1), (1, 0), (2, 0)) 0.3108533815598567\n",
       "((2, 1), (1, 1), (3, 0), (0, 0)) 0.09839529174273509\n",
       "((2, 1), (2, 1), (0, 0), (0, 0)) 0.09839529174273509\n",
       "((2, 1), (2, 1), (2, 0), (2, 0)) 0.3265353734712867\n",
       "((2, 1), (3, 1), (1, 0), (0, 0)) 0.09839529174273509\n",
       "((2, 1), (3, 1), (3, 0), (2, 0)) 0.3265353734712867\n",
       "((3, 1), (0, 1), (0, 0), (3, 0)) 0.3108533815598567\n",
       "((3, 1), (0, 1), (2, 0), (1, 0)) 0.09839529174273509\n",
       "((3, 1), (1, 1), (1, 0), (3, 0)) 0.3108533815598567\n",
       "((3, 1), (1, 1), (3, 0), (1, 0)) 0.09839529174273509\n",
       "((3, 1), (2, 1), (0, 0), (1, 0)) 0.09839529174273509\n",
       "((3, 1), (2, 1), (2, 0), (3, 0)) 0.3265353734712867\n",
       "((3, 1), (3, 1), (1, 0), (1, 0)) 0.09839529174273509\n",
       "((3, 1), (3, 1), (3, 0), (3, 0)) 0.3265353734712867"
      ]
     },
     "execution_count": 19,
     "metadata": {},
     "output_type": "execute_result"
    }
   ],
   "source": [
    "h2.molecular_hamiltonian"
   ]
  },
  {
   "cell_type": "code",
   "execution_count": 18,
   "id": "87d9256d",
   "metadata": {},
   "outputs": [
    {
     "data": {
      "text/plain": [
       "(-0.3276081896748102+0j) [] +\n",
       "(-0.049197645871367546+0j) [X0 X1 Y2 Y3] +\n",
       "(0.049197645871367546+0j) [X0 Y1 Y2 X3] +\n",
       "(0.049197645871367546+0j) [Y0 X1 X2 Y3] +\n",
       "(-0.049197645871367546+0j) [Y0 Y1 X2 X3] +\n",
       "(0.13716572937099497+0j) [Z0] +\n",
       "(0.15660062488237947+0j) [Z0 Z1] +\n",
       "(0.10622904490856078+0j) [Z0 Z2] +\n",
       "(0.15542669077992832+0j) [Z0 Z3] +\n",
       "(0.13716572937099497+0j) [Z1] +\n",
       "(0.15542669077992832+0j) [Z1 Z2] +\n",
       "(0.10622904490856078+0j) [Z1 Z3] +\n",
       "(-0.13036292057109025+0j) [Z2] +\n",
       "(0.16326768673564335+0j) [Z2 Z3] +\n",
       "(-0.13036292057109025+0j) [Z3]"
      ]
     },
     "execution_count": 18,
     "metadata": {},
     "output_type": "execute_result"
    }
   ],
   "source": [
    "h2.jw"
   ]
  },
  {
   "cell_type": "markdown",
   "id": "c7f7990d",
   "metadata": {},
   "source": [
    "## Trotter (Product formula)"
   ]
  },
  {
   "cell_type": "code",
   "execution_count": 9,
   "id": "85dc8331",
   "metadata": {},
   "outputs": [
    {
     "data": {
      "text/plain": [
       "<16x16 sparse matrix of type '<class 'numpy.complex128'>'\n",
       "\twith 128 stored elements in Compressed Sparse Row format>"
      ]
     },
     "execution_count": 9,
     "metadata": {},
     "output_type": "execute_result"
    }
   ],
   "source": [
    "from trotter import pf\n",
    "\n",
    "pf(nnh.ham_par, 2, 100, order=2)   # use scipy\n",
    "pf(nnh.ham_par, 2, 100, order=2, use_jax=True)  # use jax\n",
    "pf([term.to_matrix(True) for term in nnh.ham_par], 2, 100, order=2)   # use sparse"
   ]
  },
  {
   "cell_type": "markdown",
   "id": "55a3dfba",
   "metadata": {},
   "source": [
    "### bounds"
   ]
  },
  {
   "cell_type": "code",
   "execution_count": 35,
   "id": "63ed8f8e",
   "metadata": {},
   "outputs": [],
   "source": [
    "from bounds import *"
   ]
  },
  {
   "cell_type": "markdown",
   "id": "9d9b79a5",
   "metadata": {},
   "source": [
    "## Pauli algebra"
   ]
  },
  {
   "cell_type": "code",
   "execution_count": 10,
   "id": "809c7242",
   "metadata": {},
   "outputs": [
    {
     "name": "stdout",
     "output_type": "stream",
     "text": [
      "Parity grouping: \n",
      " [SparsePauliOp(['IIIIZZ', 'IIZZII', 'ZZIIII', 'IIIIIX', 'IIIXII', 'IXIIII'],\n",
      "              coeffs=[1. +0.j, 1. +0.j, 1. +0.j, 0.2+0.j, 0.2+0.j, 0.2+0.j]), SparsePauliOp(['IIIZZI', 'IZZIII', 'ZIIIIZ', 'IIIIXI', 'IIXIII', 'XIIIII'],\n",
      "              coeffs=[1. +0.j, 1. +0.j, 1. +0.j, 0.2+0.j, 0.2+0.j, 0.2+0.j])]\n",
      "XYZ grouping: \n",
      " [SparsePauliOp(['IIIIIX', 'IIIIXI', 'IIIXII', 'IIXIII', 'IXIIII', 'XIIIII'],\n",
      "              coeffs=[0.2+0.j, 0.2+0.j, 0.2+0.j, 0.2+0.j, 0.2+0.j, 0.2+0.j]), SparsePauliOp(['IIIIZZ', 'IIIZZI', 'IIZZII', 'IZZIII', 'ZZIIII', 'ZIIIIZ'],\n",
      "              coeffs=[1.+0.j, 1.+0.j, 1.+0.j, 1.+0.j, 1.+0.j, 1.+0.j])]\n"
     ]
    }
   ],
   "source": [
    "n = 6\n",
    "J, h = 1, 0.2 \n",
    "tfI = Nearest_Neighbour_1d(n=n, Jz=J, hx=h, pbc=True)\n",
    "print('Parity grouping: \\n', tfI.ham_par)\n",
    "print('XYZ grouping: \\n', tfI.ham_xyz)"
   ]
  },
  {
   "cell_type": "code",
   "execution_count": 16,
   "id": "f730b002",
   "metadata": {},
   "outputs": [
    {
     "name": "stdout",
     "output_type": "stream",
     "text": [
      "commutator of xyz grouping: \n",
      " SparsePauliOp(['IIIIZY', 'ZIIIIY', 'IIIIYZ', 'IIIZYI', 'IIIYZI', 'IIZYII', 'IIYZII', 'IZYIII', 'IYZIII', 'ZYIIII', 'YZIIII', 'YIIIIZ'],\n",
      "              coeffs=[0.-0.4j, 0.-0.4j, 0.-0.4j, 0.-0.4j, 0.-0.4j, 0.-0.4j, 0.-0.4j, 0.-0.4j,\n",
      " 0.-0.4j, 0.-0.4j, 0.-0.4j, 0.-0.4j])\n"
     ]
    }
   ],
   "source": [
    "cmm_xyz = commutator(tfI.ham_xyz[0], tfI.ham_xyz[1]).simplify()\n",
    "print('commutator of xyz grouping: \\n', cmm_xyz)"
   ]
  },
  {
   "cell_type": "code",
   "execution_count": 17,
   "id": "92245f95",
   "metadata": {},
   "outputs": [
    {
     "data": {
      "text/plain": [
       "SparsePauliOp(['IIIIIY', 'IIIIYI', 'IIIYII', 'IIYIII', 'IYIIII', 'YIIIII'],\n",
       "              coeffs=[0.-0.4j, 0.-0.4j, 0.-0.4j, 0.-0.4j, 0.-0.4j, 0.-0.4j])"
      ]
     },
     "execution_count": 17,
     "metadata": {},
     "output_type": "execute_result"
    }
   ],
   "source": [
    "from qiskit.quantum_info import SparsePauliOp\n",
    "magn_op = SparsePauliOp.from_sparse_list([('Z', [i], 1) for i in range(0, n)], n)\n",
    "corr_op = SparsePauliOp.from_sparse_list([('ZZ', [i,i+1], 1/(n-1)) for i in range(0, n-1)], n)\n",
    "cmm_H_magn = commutator(tfI.ham_xyz[0], magn_op).simplify()\n",
    "cmm_H_magn"
   ]
  },
  {
   "cell_type": "code",
   "execution_count": 15,
   "id": "464ec272",
   "metadata": {},
   "outputs": [
    {
     "name": "stdout",
     "output_type": "stream",
     "text": [
      "spectral norm:  3.2000000000000006\n",
      "induced 1-norm:  4.800000000000001\n",
      "Frobenius norm:  11.085125168440818\n",
      "trace (nuclear) norm:  71.65537550532244\n"
     ]
    }
   ],
   "source": [
    "print('spectral norm: ', norm(cmm_xyz, ord=2))\n",
    "print('induced 1-norm: ', norm(cmm_xyz.coeffs, ord=1))\n",
    "print('Frobenius norm: ', norm(cmm_xyz, ord='fro'))\n",
    "print('trace (nuclear) norm: ', norm(cmm_xyz, ord='nuc'))"
   ]
  },
  {
   "cell_type": "markdown",
   "id": "f981124d",
   "metadata": {},
   "source": [
    "## Misc"
   ]
  },
  {
   "cell_type": "code",
   "execution_count": null,
   "id": "5ceb9923",
   "metadata": {},
   "outputs": [],
   "source": []
  }
 ],
 "metadata": {
  "kernelspec": {
   "display_name": "Python 3.8.8 ('base')",
   "language": "python",
   "name": "python3"
  },
  "language_info": {
   "codemirror_mode": {
    "name": "ipython",
    "version": 3
   },
   "file_extension": ".py",
   "mimetype": "text/x-python",
   "name": "python",
   "nbconvert_exporter": "python",
   "pygments_lexer": "ipython3",
   "version": "3.10.14"
  },
  "vscode": {
   "interpreter": {
    "hash": "4e8ef2f9fcac0817bca9a7ca376f64f20b4df5ea3bf7af756a50bda7d3557ea6"
   }
  }
 },
 "nbformat": 4,
 "nbformat_minor": 5
}
